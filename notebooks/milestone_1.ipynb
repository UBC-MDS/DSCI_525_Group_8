{
 "cells": [
  {
   "cell_type": "markdown",
   "id": "add36b46-912a-4621-a3a7-4cec3143f952",
   "metadata": {},
   "source": [
    "# Milestone 1: Tackling big data on your laptop"
   ]
  },
  {
   "cell_type": "code",
   "execution_count": 1,
   "id": "b21e55c4-a340-451c-b49b-be7d08a1e668",
   "metadata": {},
   "outputs": [],
   "source": [
    "import re\n",
    "import os\n",
    "import glob\n",
    "import zipfile\n",
    "import requests\n",
    "from urllib.request import urlretrieve\n",
    "import json\n",
    "import pandas as pd"
   ]
  },
  {
   "cell_type": "markdown",
   "id": "b9cb613e-494d-4f77-aba2-1420ce3faab5",
   "metadata": {},
   "source": [
    "## Download the data\n",
    "Here we download the data from figshare and extract the zip file programmatically."
   ]
  },
  {
   "cell_type": "code",
   "execution_count": 2,
   "id": "46bd51ce-585a-4b03-9e97-7caa13b2b8e5",
   "metadata": {},
   "outputs": [
    {
     "name": "stdout",
     "output_type": "stream",
     "text": [
      "C:\\Users\\maria\\MDS_B6\\525\\DSCI_525_Group_8\\data\n"
     ]
    }
   ],
   "source": [
    "%cd ~/MDS_B6/525/DSCI_525_Group_8/data/"
   ]
  },
  {
   "cell_type": "code",
   "execution_count": 3,
   "id": "17cb91b4-baf0-4a66-8f51-e830c0f8d41f",
   "metadata": {},
   "outputs": [],
   "source": [
    "# Necessary metadata\n",
    "article_id = 14096681  # this is the unique identifier of the article on figshare\n",
    "url = f\"https://api.figshare.com/v2/articles/{article_id}\"\n",
    "headers = {\"Content-Type\": \"application/json\"}\n",
    "output_directory = \"figshare/\""
   ]
  },
  {
   "cell_type": "code",
   "execution_count": 4,
   "id": "fc62011d-f2a6-4561-b175-40060fb6eb12",
   "metadata": {},
   "outputs": [
    {
     "data": {
      "text/plain": [
       "[{'id': 26579150,\n",
       "  'name': 'daily_rainfall_2014.png',\n",
       "  'size': 58863,\n",
       "  'is_link_only': False,\n",
       "  'download_url': 'https://ndownloader.figshare.com/files/26579150',\n",
       "  'supplied_md5': 'fd32a2ffde300a31f8d63b1825d47e5e',\n",
       "  'computed_md5': 'fd32a2ffde300a31f8d63b1825d47e5e'},\n",
       " {'id': 26579171,\n",
       "  'name': 'environment.yml',\n",
       "  'size': 192,\n",
       "  'is_link_only': False,\n",
       "  'download_url': 'https://ndownloader.figshare.com/files/26579171',\n",
       "  'supplied_md5': '060b2020017eed93a1ee7dd8c65b2f34',\n",
       "  'computed_md5': '060b2020017eed93a1ee7dd8c65b2f34'},\n",
       " {'id': 26586554,\n",
       "  'name': 'README.md',\n",
       "  'size': 5422,\n",
       "  'is_link_only': False,\n",
       "  'download_url': 'https://ndownloader.figshare.com/files/26586554',\n",
       "  'supplied_md5': '61858c6cc0e6a6d6663a7e4c75bbd88c',\n",
       "  'computed_md5': '61858c6cc0e6a6d6663a7e4c75bbd88c'},\n",
       " {'id': 26766812,\n",
       "  'name': 'data.zip',\n",
       "  'size': 814041183,\n",
       "  'is_link_only': False,\n",
       "  'download_url': 'https://ndownloader.figshare.com/files/26766812',\n",
       "  'supplied_md5': 'b517383f76e77bd03755a63a8ff83ee9',\n",
       "  'computed_md5': 'b517383f76e77bd03755a63a8ff83ee9'},\n",
       " {'id': 26766815,\n",
       "  'name': 'get_data.py',\n",
       "  'size': 4113,\n",
       "  'is_link_only': False,\n",
       "  'download_url': 'https://ndownloader.figshare.com/files/26766815',\n",
       "  'supplied_md5': '7829028495fd9dec9680ea013474afa6',\n",
       "  'computed_md5': '7829028495fd9dec9680ea013474afa6'}]"
      ]
     },
     "execution_count": 4,
     "metadata": {},
     "output_type": "execute_result"
    }
   ],
   "source": [
    "response = requests.request(\"GET\", url, headers=headers)\n",
    "data = json.loads(response.text)  # this contains all the articles data, feel free to check it out\n",
    "files = data[\"files\"]             # this is just the data about the files, which is what we want\n",
    "files"
   ]
  },
  {
   "cell_type": "code",
   "execution_count": 5,
   "id": "e2c51045-ffbf-4eb4-a94a-3f3531fd07e6",
   "metadata": {},
   "outputs": [
    {
     "name": "stdout",
     "output_type": "stream",
     "text": [
      "CPU times: total: 7.69 s\n",
      "Wall time: 4min 13s\n"
     ]
    }
   ],
   "source": [
    "%%time\n",
    "files_to_dl = [\"data.zip\"]  # feel free to add other files here\n",
    "for file in files:\n",
    "    if file[\"name\"] in files_to_dl:\n",
    "        os.makedirs(output_directory, exist_ok=True)\n",
    "        urlretrieve(file[\"download_url\"], output_directory + file[\"name\"])\n"
   ]
  },
  {
   "cell_type": "code",
   "execution_count": 6,
   "id": "ee16f738-9071-4eb4-ad3c-809e5c5df8de",
   "metadata": {},
   "outputs": [
    {
     "name": "stdout",
     "output_type": "stream",
     "text": [
      "CPU times: total: 17.8 s\n",
      "Wall time: 34.5 s\n"
     ]
    }
   ],
   "source": [
    "%%time\n",
    "with zipfile.ZipFile(os.path.join(output_directory, \"data.zip\"), 'r') as f:\n",
    "    f.extractall(output_directory)"
   ]
  },
  {
   "cell_type": "markdown",
   "id": "902e64d4-4074-4a4b-b5a6-a4c5336392a0",
   "metadata": {},
   "source": [
    "## Combining Data CSVs"
   ]
  },
  {
   "cell_type": "markdown",
   "id": "9df20c8a-009d-4052-93e1-37de818e39f4",
   "metadata": {},
   "source": [
    "Here we will combine the extracted CSVs into one CSV using pandas and compare runtimes between team members."
   ]
  },
  {
   "cell_type": "code",
   "execution_count": 7,
   "id": "ce8a5771-290d-4a96-867d-ea3828916a2e",
   "metadata": {},
   "outputs": [
    {
     "name": "stdout",
     "output_type": "stream",
     "text": [
      "C:\\Users\\maria\\MDS_B6\\525\\DSCI_525_Group_8\\data\\figshare\n"
     ]
    }
   ],
   "source": [
    "%cd ~/MDS_B6/525/DSCI_525_Group_8/data/figshare/"
   ]
  },
  {
   "cell_type": "code",
   "execution_count": 8,
   "id": "24c3b501-c56d-4c6a-a843-0a0473b4a955",
   "metadata": {},
   "outputs": [
    {
     "name": "stdout",
     "output_type": "stream",
     "text": [
      "CPU times: total: 6min 59s\n",
      "Wall time: 11min 51s\n"
     ]
    }
   ],
   "source": [
    "%%time\n",
    "## here we are using a normal python way for merging the data \n",
    "\n",
    "files = glob.glob('*.csv')\n",
    "df = pd.concat((pd.read_csv(file, index_col=0)\n",
    "                .assign(model=re.findall(\"([^_]*)\", file)[0])\n",
    "                for file in files)\n",
    "              )\n",
    "df.to_csv(\"../combined_data.csv\")"
   ]
  },
  {
   "cell_type": "code",
   "execution_count": 9,
   "id": "83846e58-e935-459a-9fdf-6238ff96feed",
   "metadata": {},
   "outputs": [
    {
     "data": {
      "text/html": [
       "<div>\n",
       "<style scoped>\n",
       "    .dataframe tbody tr th:only-of-type {\n",
       "        vertical-align: middle;\n",
       "    }\n",
       "\n",
       "    .dataframe tbody tr th {\n",
       "        vertical-align: top;\n",
       "    }\n",
       "\n",
       "    .dataframe thead th {\n",
       "        text-align: right;\n",
       "    }\n",
       "</style>\n",
       "<table border=\"1\" class=\"dataframe\">\n",
       "  <thead>\n",
       "    <tr style=\"text-align: right;\">\n",
       "      <th></th>\n",
       "      <th>lat_min</th>\n",
       "      <th>lat_max</th>\n",
       "      <th>lon_min</th>\n",
       "      <th>lon_max</th>\n",
       "      <th>rain (mm/day)</th>\n",
       "      <th>model</th>\n",
       "    </tr>\n",
       "    <tr>\n",
       "      <th>time</th>\n",
       "      <th></th>\n",
       "      <th></th>\n",
       "      <th></th>\n",
       "      <th></th>\n",
       "      <th></th>\n",
       "      <th></th>\n",
       "    </tr>\n",
       "  </thead>\n",
       "  <tbody>\n",
       "    <tr>\n",
       "      <th>1889-01-01 12:00:00</th>\n",
       "      <td>-36.25</td>\n",
       "      <td>-35.0</td>\n",
       "      <td>140.625</td>\n",
       "      <td>142.5</td>\n",
       "      <td>3.293256e-13</td>\n",
       "      <td>ACCESS-CM2</td>\n",
       "    </tr>\n",
       "  </tbody>\n",
       "</table>\n",
       "</div>"
      ],
      "text/plain": [
       "                     lat_min  lat_max  lon_min  lon_max  rain (mm/day)  \\\n",
       "time                                                                     \n",
       "1889-01-01 12:00:00   -36.25    -35.0  140.625    142.5   3.293256e-13   \n",
       "\n",
       "                          model  \n",
       "time                             \n",
       "1889-01-01 12:00:00  ACCESS-CM2  "
      ]
     },
     "execution_count": 9,
     "metadata": {},
     "output_type": "execute_result"
    }
   ],
   "source": [
    "# check that model column values are in proper format\n",
    "df.head(1)"
   ]
  },
  {
   "cell_type": "markdown",
   "id": "e29dc1b0-2004-4de8-84e4-4796652c49a0",
   "metadata": {},
   "source": [
    "Below, we compare the run times of combining CSVs on team members' laptops."
   ]
  },
  {
   "cell_type": "markdown",
   "id": "c1b67a47-fe79-46e4-96e5-43f03109eb66",
   "metadata": {},
   "source": [
    "| Team Member | Operating System | RAM | Processor | Is SSD | Time taken |\n",
    "|:-----------:|:----------------:|:---:|:---------:|:------:|:----------:|\n",
    "| Lisa   |        Windows 11          |   16 GB  |    11th Gen Intel(R) Core(TM) i5       |  Yes      |    10min 19s        |\n",
    "| Dudu    |      MacOS Ventura Version 13.2.1            | 16 GB    |   2.3 GHz 8-Core Intel Core i9        |   Yes     |     5min 16s       |\n",
    "| Marian    |       Windows 11           | 16 GB    |    12th Gen Intel(R) Core(TM) i7    |    Yes    |    11min 51s        |\n",
    "| Mehwish   |         Windows 11         |  16GB   |    11th Gen Intel(R) Core(TM) i5       |   Yes     |      15min 42s      |"
   ]
  },
  {
   "cell_type": "markdown",
   "id": "dc43b59c-bdf0-4dbd-9b01-921a144d197b",
   "metadata": {},
   "source": [
    "## Reduce Memory Usage & EDA"
   ]
  },
  {
   "cell_type": "code",
   "execution_count": 10,
   "id": "3852d198-f4ca-4704-99e8-aabbfda28e43",
   "metadata": {},
   "outputs": [
    {
     "name": "stdout",
     "output_type": "stream",
     "text": [
      "C:\\Users\\maria\\MDS_B6\\525\\DSCI_525_Group_8\n"
     ]
    }
   ],
   "source": [
    "%cd ~/MDS_B6/525/DSCI_525_Group_8/"
   ]
  },
  {
   "cell_type": "markdown",
   "id": "0ccb5eb8-fd42-457a-a02a-e275651d415d",
   "metadata": {},
   "source": [
    "Below, we can see that we have over 62 million entries, and the data types of the numerical columns are all `float64`. "
   ]
  },
  {
   "cell_type": "code",
   "execution_count": 11,
   "id": "b2659060-1dd5-42c2-a5e7-012f1069b769",
   "metadata": {},
   "outputs": [
    {
     "name": "stdout",
     "output_type": "stream",
     "text": [
      "<class 'pandas.core.frame.DataFrame'>\n",
      "Index: 62513863 entries, 1889-01-01 12:00:00 to 2014-12-31 12:00:00\n",
      "Data columns (total 6 columns):\n",
      " #   Column         Dtype  \n",
      "---  ------         -----  \n",
      " 0   lat_min        float64\n",
      " 1   lat_max        float64\n",
      " 2   lon_min        float64\n",
      " 3   lon_max        float64\n",
      " 4   rain (mm/day)  float64\n",
      " 5   model          object \n",
      "dtypes: float64(5), object(1)\n",
      "memory usage: 3.3+ GB\n",
      "CPU times: total: 0 ns\n",
      "Wall time: 16.7 ms\n"
     ]
    }
   ],
   "source": [
    "%%time\n",
    "df.info()"
   ]
  },
  {
   "cell_type": "markdown",
   "id": "e02a9c38-4977-4d3e-ab58-5e39a2741cd0",
   "metadata": {},
   "source": [
    "> We can reduce memory usage by a) loading in data in smaller chunks, and b) converting `float64` to `float32`.  Below, we test out these memory reduction methods and time the EDA process, where we determine the value counts of each model."
   ]
  },
  {
   "cell_type": "code",
   "execution_count": 12,
   "id": "56528099-cb57-49bd-9f08-3b5b1db76fde",
   "metadata": {},
   "outputs": [
    {
     "name": "stdout",
     "output_type": "stream",
     "text": [
      "ACCESS-CM2          1932840\n",
      "ACCESS-ESM1-5       1610700\n",
      "AWI-ESM-1-1-LR       966420\n",
      "BCC-CSM2-MR         3035340\n",
      "BCC-ESM1             551880\n",
      "CMCC-CM2-HR4        3541230\n",
      "CMCC-CM2-SR5        3541230\n",
      "CMCC-ESM2           3541230\n",
      "CanESM5              551880\n",
      "EC-Earth3-Veg-LR    3037320\n",
      "FGOALS-f3-L         3219300\n",
      "FGOALS-g3           1287720\n",
      "GFDL-CM4            3219300\n",
      "GFDL-ESM4           3219300\n",
      "INM-CM4-8           1609650\n",
      "INM-CM5-0           1609650\n",
      "KIOST-ESM           1287720\n",
      "MIROC6              2070900\n",
      "MPI-ESM-1-2-HAM      966420\n",
      "MPI-ESM1-2-HR       5154240\n",
      "MPI-ESM1-2-LR        966420\n",
      "MRI-ESM2-0          3037320\n",
      "NESM3                966420\n",
      "NorESM2-LM           919800\n",
      "NorESM2-MM          3541230\n",
      "SAM0-UNICON         3541153\n",
      "TaiESM1             3541230\n",
      "observed              46020\n",
      "dtype: int32\n",
      "CPU times: total: 1min 8s\n",
      "Wall time: 2min 5s\n"
     ]
    }
   ],
   "source": [
    "%%time\n",
    "\n",
    "# a) loading in by chunks + EDA\n",
    "counts = pd.Series(dtype=int)\n",
    "\n",
    "for chunk in pd.read_csv(\"data/combined_data.csv\", chunksize=10_000_000):\n",
    "    counts = counts.add(chunk[\"model\"].value_counts(), fill_value=0)\n",
    "    \n",
    "print(counts.astype(int))"
   ]
  },
  {
   "cell_type": "markdown",
   "id": "a3d10d33-5637-4119-b0f9-240cbaf9e002",
   "metadata": {},
   "source": [
    "| Team Member | Operating System | RAM | Processor | Is SSD | Time taken |\n",
    "|:-----------:|:----------------:|:---:|:---------:|:------:|:----------:|\n",
    "| Lisa   |        Windows 11          |   16 GB  |    11th Gen Intel(R) Core(TM) i5       |  Yes      |    57.2s      |\n",
    "| Dudu    |      MacOS Ventura Version 13.2.1            | 16 GB    |   2.3 GHz 8-Core Intel Core i9        |   Yes     |     1min 2s     |\n",
    "| Marian    |       Windows 11           | 16 GB    |    12th Gen Intel(R) Core(TM) i7    |    Yes    |   2min 5s       |\n",
    "| Mehwish   |         Windows 11         |  16GB   |    11th Gen Intel(R) Core(TM) i5       |   Yes     |    2 min  45s      |"
   ]
  },
  {
   "cell_type": "code",
   "execution_count": 13,
   "id": "ec27c12a-a577-44e7-a903-adb0fa267288",
   "metadata": {},
   "outputs": [
    {
     "name": "stdout",
     "output_type": "stream",
     "text": [
      "MPI-ESM1-2-HR       5154240\n",
      "TaiESM1             3541230\n",
      "NorESM2-MM          3541230\n",
      "CMCC-CM2-HR4        3541230\n",
      "CMCC-CM2-SR5        3541230\n",
      "CMCC-ESM2           3541230\n",
      "SAM0-UNICON         3541153\n",
      "FGOALS-f3-L         3219300\n",
      "GFDL-CM4            3219300\n",
      "GFDL-ESM4           3219300\n",
      "MRI-ESM2-0          3037320\n",
      "EC-Earth3-Veg-LR    3037320\n",
      "BCC-CSM2-MR         3035340\n",
      "MIROC6              2070900\n",
      "ACCESS-CM2          1932840\n",
      "ACCESS-ESM1-5       1610700\n",
      "INM-CM5-0           1609650\n",
      "INM-CM4-8           1609650\n",
      "KIOST-ESM           1287720\n",
      "FGOALS-g3           1287720\n",
      "MPI-ESM-1-2-HAM      966420\n",
      "MPI-ESM1-2-LR        966420\n",
      "NESM3                966420\n",
      "AWI-ESM-1-1-LR       966420\n",
      "NorESM2-LM           919800\n",
      "CanESM5              551880\n",
      "BCC-ESM1             551880\n",
      "observed              46020\n",
      "Name: model, dtype: int64\n",
      "CPU times: total: 1min 18s\n",
      "Wall time: 2min 32s\n"
     ]
    }
   ],
   "source": [
    "%%time\n",
    "\n",
    "# b) convert numerical columns to float32\n",
    "df = pd.read_csv(\"data/combined_data.csv\").astype('float32', errors='ignore')\n",
    "\n",
    "# EDA\n",
    "print(df[\"model\"].value_counts())"
   ]
  },
  {
   "cell_type": "markdown",
   "id": "f3a433b1-adb3-4ef7-92c3-d39ed1799b39",
   "metadata": {},
   "source": [
    "| Team Member | Operating System | RAM | Processor | Is SSD | Time taken |\n",
    "|:-----------:|:----------------:|:---:|:---------:|:------:|:----------:|\n",
    "| Lisa   |        Windows 11          |   16 GB  |    11th Gen Intel(R) Core(TM) i5       |  Yes      | 1 min 15s         |\n",
    "| Dudu    |      MacOS Ventura 13.2.1            | 16 GB    |   2.3 GHz 8-Core Intel Core i9        |   Yes     |    1min 15s      |\n",
    "| Marian    |       Windows 11           | 16 GB    |    12th Gen Intel(R) Core(TM) i7    |    Yes    |   2min 32s       |\n",
    "| Mehwish   |         Windows 11         |  16GB   |    11th Gen Intel(R) Core(TM) i5       |   Yes     |    2min 58s       |"
   ]
  },
  {
   "cell_type": "markdown",
   "id": "41a651ad-a38e-4ffc-94af-3f96977dd51b",
   "metadata": {},
   "source": [
    "## Transfer Dataframe to R & EDA"
   ]
  },
  {
   "cell_type": "markdown",
   "id": "fdb83a92-0855-4503-81f4-ef45b536948f",
   "metadata": {},
   "source": [
    "*Explain transfer method of choice here*"
   ]
  },
  {
   "cell_type": "code",
   "execution_count": null,
   "id": "ed10e935-3366-477c-98fb-7ffe67831951",
   "metadata": {},
   "outputs": [],
   "source": []
  },
  {
   "cell_type": "markdown",
   "id": "6ebdec00-2f38-463b-bb74-bc9def27d20a",
   "metadata": {},
   "source": [
    "## Discussion of Challenges"
   ]
  },
  {
   "cell_type": "markdown",
   "id": "31e93dfe-0125-477d-8d36-47738ff6e416",
   "metadata": {},
   "source": [
    "*Discuss here.*"
   ]
  },
  {
   "cell_type": "code",
   "execution_count": null,
   "id": "5df517a0-3018-4a08-b2ae-1b106dd06f69",
   "metadata": {},
   "outputs": [],
   "source": []
  }
 ],
 "metadata": {
  "kernelspec": {
   "display_name": "Python [conda env:525]",
   "language": "python",
   "name": "conda-env-525-py"
  },
  "language_info": {
   "codemirror_mode": {
    "name": "ipython",
    "version": 3
   },
   "file_extension": ".py",
   "mimetype": "text/x-python",
   "name": "python",
   "nbconvert_exporter": "python",
   "pygments_lexer": "ipython3",
   "version": "3.10.10"
  }
 },
 "nbformat": 4,
 "nbformat_minor": 5
}
